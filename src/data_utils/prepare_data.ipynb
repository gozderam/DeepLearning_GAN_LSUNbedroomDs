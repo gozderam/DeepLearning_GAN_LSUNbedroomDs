{
 "cells": [
  {
   "cell_type": "code",
   "execution_count": null,
   "metadata": {},
   "outputs": [],
   "source": [
    "import os\n",
    "from zipfile import ZipFile\n",
    "import shutil"
   ]
  },
  {
   "cell_type": "code",
   "execution_count": null,
   "metadata": {},
   "outputs": [],
   "source": [
    "data_dir = '../../data'"
   ]
  },
  {
   "cell_type": "code",
   "execution_count": null,
   "metadata": {},
   "outputs": [],
   "source": [
    "with ZipFile(f'{data_dir}/archive.zip', 'r') as zipObj:\n",
    "   zipObj.extractall(data_dir)"
   ]
  },
  {
   "cell_type": "code",
   "execution_count": null,
   "metadata": {},
   "outputs": [],
   "source": [
    "shutil.rmtree(f'{data_dir}/sample')"
   ]
  },
  {
   "cell_type": "code",
   "execution_count": null,
   "metadata": {},
   "outputs": [],
   "source": [
    "os.mkdir(f'{data_dir}/data')\n",
    "with open(f'{data_dir}/images.txt', 'w') as f:\n",
    "    for (dirpath, dirnames, filenames) in os.walk(f'{data_dir}/data0'):\n",
    "        for filename in filenames:\n",
    "            os.rename(os.path.join(dirpath, filename), f'{data_dir}/data/{filename}')\n",
    "            f.write(f'{filename}\\n')"
   ]
  },
  {
   "cell_type": "code",
   "execution_count": null,
   "metadata": {},
   "outputs": [],
   "source": [
    "shutil.rmtree(f'{data_dir}/data0')"
   ]
  }
 ],
 "metadata": {
  "interpreter": {
   "hash": "fe0172e525c335d9d8cafeee118aa872bf99843faad0080e311f444d1604a5dd"
  },
  "kernelspec": {
   "display_name": "Python 3.9.12 ('base2')",
   "language": "python",
   "name": "python3"
  },
  "language_info": {
   "codemirror_mode": {
    "name": "ipython",
    "version": 3
   },
   "file_extension": ".py",
   "mimetype": "text/x-python",
   "name": "python",
   "nbconvert_exporter": "python",
   "pygments_lexer": "ipython3",
   "version": "3.9.12"
  },
  "orig_nbformat": 4
 },
 "nbformat": 4,
 "nbformat_minor": 2
}
