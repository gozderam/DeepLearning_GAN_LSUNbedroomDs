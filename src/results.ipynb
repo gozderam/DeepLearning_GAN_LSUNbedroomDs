{
 "cells": [
  {
   "cell_type": "code",
   "execution_count": null,
   "metadata": {},
   "outputs": [],
   "source": [
    "import torch\n",
    "from torchvision.utils import save_image\n",
    "import numpy as np\n",
    "import matplotlib.pyplot as plt\n",
    "import random\n",
    "import torchvision.utils as vutils\n",
    "from custom_nets.dcgan import Generator\n",
    "import os\n",
    "from scipy.interpolate import interp1d"
   ]
  },
  {
   "cell_type": "code",
   "execution_count": null,
   "metadata": {},
   "outputs": [],
   "source": [
    "def display_results(name: str, nz, ngf, nc, device):\n",
    "    D_losses = np.loadtxt(f'../loss/dcgan_netD_{name}.txt')\n",
    "    G_losses = np.loadtxt(f'../loss/dcgan_netG_{name}.txt')\n",
    "\n",
    "    D_real_mean_out = np.loadtxt(f'../mean_out/dcgan_netD_real_{name}.txt')\n",
    "    D_fake_mean_out = np.loadtxt(f'../mean_out/dcgan_netD_fake_{name}.txt')\n",
    "\n",
    "    plt.figure(figsize=(10,5))\n",
    "    plt.title(\"Generator and Discriminator Loss During Training\")\n",
    "    plt.plot(G_losses, label=\"G\")\n",
    "    plt.plot(D_losses, label=\"D\")\n",
    "    plt.xlabel(\"Iterations\")\n",
    "    plt.ylabel(\"Loss\")\n",
    "    plt.legend()\n",
    "    plt.show()\n",
    "\n",
    "    plt.figure(figsize=(10,5))\n",
    "    plt.title(\"Discriminator Mean Scores During Training\")\n",
    "    plt.plot(D_real_mean_out, label=\"Real\")\n",
    "    plt.plot(D_fake_mean_out, label=\"Fake\")\n",
    "    plt.xlabel(\"Iterations\")\n",
    "    plt.ylabel(\"Mean\")\n",
    "    plt.legend()\n",
    "    plt.show()"
   ]
  },
  {
   "cell_type": "code",
   "execution_count": null,
   "metadata": {},
   "outputs": [],
   "source": [
    "def save_fake_imgs(name: str, nz, ngf, nc, device):\n",
    "    manualSeed = 42\n",
    "    random.seed(manualSeed)\n",
    "    torch.manual_seed(manualSeed)\n",
    "\n",
    "    netG = Generator(ngpu, nz, ngf, nc).to(device)\n",
    "    netG.load_state_dict(torch.load(f'../nets/dcgan_netG_{name}'))\n",
    "\n",
    "    fixed_noise = torch.randn(4000, nz, 1, 1, device=device)\n",
    "    with torch.no_grad():\n",
    "        fake = netG(fixed_noise).detach().cpu()\n",
    "\n",
    "    if not os.path.exists('../dcgan_fake_imgs'):\n",
    "        os.mkdir('../dcgan_fake_imgs')\n",
    "\n",
    "    for i, img in enumerate(fake):\n",
    "        save_image(img, f'../dcgan_fake_imgs/dcgan_fake_{name}_{i}.png')"
   ]
  },
  {
   "cell_type": "code",
   "execution_count": null,
   "metadata": {},
   "outputs": [],
   "source": [
    "def get_save_interp_vectors(net_name, nz, device):\n",
    "    if not os.path.exists('../interpol'):\n",
    "        os.mkdir('../interpol')\n",
    "\n",
    "    start = torch.randn(nz, device=device)\n",
    "    end = torch.randn(nz, device=device)\n",
    "\n",
    "    linfit = interp1d([1, 10], torch.vstack([start, end]), axis=0)\n",
    "    interp_vectors = [linfit(i) for i in range(1, 10 + 1)]\n",
    "\n",
    "    np.savetxt(f'../interpol/{net_name}.csv', interp_vectors)\n",
    "\n",
    "    return torch.tensor(np.array(interp_vectors), device=device)"
   ]
  },
  {
   "cell_type": "code",
   "execution_count": null,
   "metadata": {},
   "outputs": [],
   "source": [
    "def generate_interpol_dcgan(name, nz, ngf, nc, device):\n",
    "    interp_vectors = get_save_interp_vectors('dcgan', nz, device)\n",
    "    interp_vectors = torch.reshape(interp_vectors, (10, nz, 1, 1)).float()\n",
    "    netG = Generator(ngpu, nz, ngf, nc).to(device)\n",
    "    netG.load_state_dict(torch.load(f'../nets/dcgan_netG_{name}'))\n",
    "    with torch.no_grad():\n",
    "        fake = netG(interp_vectors).detach().cpu()\n",
    "    img_list = vutils.make_grid(fake, padding=2, normalize=True, nrow=5)\n",
    "    plt.figure(figsize=(10,5))\n",
    "    plt.axis('off')\n",
    "    plt.title('Fake Images')\n",
    "    plt.imshow(np.transpose(img_list, (1, 2, 0)))\n",
    "    fig_tosave = plt.gcf()\n",
    "    if not os.path.exists('../interpol'):\n",
    "        os.mkdir('../interpol')\n",
    "    fig_tosave.savefig('../interpol/dcgan.png', dpi=600)\n",
    "    plt.show()"
   ]
  },
  {
   "cell_type": "code",
   "execution_count": null,
   "metadata": {},
   "outputs": [],
   "source": [
    "ngpu = 1\n",
    "device = torch.device(\"cuda:0\" if torch.cuda.is_available() else \"cpu\")\n",
    "nz = 100\n",
    "ngf = 64\n",
    "nc = 3"
   ]
  },
  {
   "cell_type": "code",
   "execution_count": null,
   "metadata": {},
   "outputs": [],
   "source": [
    "name = ''"
   ]
  },
  {
   "cell_type": "code",
   "execution_count": null,
   "metadata": {},
   "outputs": [],
   "source": [
    "display_results(name, nz, ngf, nc, device)"
   ]
  },
  {
   "cell_type": "code",
   "execution_count": null,
   "metadata": {},
   "outputs": [],
   "source": [
    "save_fake_imgs(name, nz, ngf, nc, device)"
   ]
  },
  {
   "cell_type": "code",
   "execution_count": null,
   "metadata": {},
   "outputs": [],
   "source": [
    "generate_interpol_dcgan(name, nz, ngf, nc, device)"
   ]
  }
 ],
 "metadata": {
  "interpreter": {
   "hash": "1c978efebeb2270acb6188b84252153fa3db86f2d5406301959b558db2528b4a"
  },
  "kernelspec": {
   "display_name": "Python 3.9.12 ('base')",
   "language": "python",
   "name": "python3"
  },
  "language_info": {
   "codemirror_mode": {
    "name": "ipython",
    "version": 3
   },
   "file_extension": ".py",
   "mimetype": "text/x-python",
   "name": "python",
   "nbconvert_exporter": "python",
   "pygments_lexer": "ipython3",
   "version": "3.9.12"
  },
  "orig_nbformat": 4
 },
 "nbformat": 4,
 "nbformat_minor": 2
}
