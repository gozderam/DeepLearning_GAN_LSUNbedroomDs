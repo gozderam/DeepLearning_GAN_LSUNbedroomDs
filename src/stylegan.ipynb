{
  "cells": [
    {
      "cell_type": "code",
      "execution_count": null,
      "metadata": {
        "id": "bFRrmXpfv4E2"
      },
      "outputs": [],
      "source": [
        "import sys\n",
        "import os\n",
        "import pickle\n",
        "import numpy as np\n",
        "import PIL.Image\n",
        "import dnnlib.tflib as tflib"
      ]
    },
    {
      "cell_type": "code",
      "execution_count": null,
      "metadata": {
        "colab": {
          "base_uri": "https://localhost:8080/"
        },
        "id": "QROdMIm74DO9",
        "outputId": "7be3e6e5-f697-4b74-c836-8452131db9d6"
      },
      "outputs": [],
      "source": [
        "!git clone https://github.com/NVlabs/stylegan.git"
      ]
    },
    {
      "cell_type": "code",
      "execution_count": null,
      "metadata": {
        "id": "GuDaV5JY4GMN"
      },
      "outputs": [],
      "source": [
        "sys.path.insert(0, '/content/stylegan')"
      ]
    },
    {
      "cell_type": "code",
      "execution_count": null,
      "metadata": {
        "colab": {
          "base_uri": "https://localhost:8080/"
        },
        "id": "37kBfwGJCHXN",
        "outputId": "e1d47641-75f9-4e6d-c10c-854302dd01fd"
      },
      "outputs": [],
      "source": [
        "def main():\n",
        "    # Initialize TensorFlow.\n",
        "    tflib.init_tf()\n",
        "\n",
        "    # Load pre-trained network.\n",
        "\n",
        "    #with dnnlib.util.open_url(url, cache_dir=config.cache_dir) as f:\n",
        "    with open('/content/karras2019stylegan-bedrooms-256x256.pkl', 'rb') as f: \n",
        "        _G, _D, Gs = pickle.load(f)\n",
        "        # _G = Instantaneous snapshot of the generator. Mainly useful for resuming a previous training run.\n",
        "        # _D = Instantaneous snapshot of the discriminator. Mainly useful for resuming a previous training run.\n",
        "        # Gs = Long-term average of the generator. Yields higher-quality results than the instantaneous snapshot.\n",
        "\n",
        "    # Print network details.\n",
        "    Gs.print_layers()\n",
        "\n",
        "    # Pick latent vector.\n",
        "    rnd = np.random.RandomState(6)\n",
        "\n",
        "    # Generate images.\n",
        "    for i in range(4000):\n",
        "      latents = rnd.randn(1, Gs.input_shape[1])\n",
        "      fmt = dict(func=tflib.convert_images_to_uint8, nchw_to_nhwc=True)\n",
        "      images = Gs.run(latents, None, truncation_psi=0.7, randomize_noise=True, output_transform=fmt)\n",
        "\n",
        "      # Save image.\n",
        "      os.makedirs('../stylegan_fake_imgs', exist_ok=True)\n",
        "      png_filename = os.path.join('../stylegan_fake_imgs2', f'stylegan_fake{i}.png')\n",
        "      PIL.Image.fromarray(images[0], 'RGB').save(png_filename)\n",
        "\n",
        "if __name__ == '__main__':\n",
        "    main()"
      ]
    }
  ],
  "metadata": {
    "accelerator": "GPU",
    "colab": {
      "collapsed_sections": [],
      "name": "stylegan.ipynb",
      "provenance": []
    },
    "interpreter": {
      "hash": "5405968b28cf7165efd2cf9f73ae0f12240fe0a8206c87e0dd6ec3cb0842cf17"
    },
    "kernelspec": {
      "display_name": "Python 3.9.12 ('dl_proj_gan')",
      "language": "python",
      "name": "python3"
    },
    "language_info": {
      "codemirror_mode": {
        "name": "ipython",
        "version": 3
      },
      "file_extension": ".py",
      "mimetype": "text/x-python",
      "name": "python",
      "nbconvert_exporter": "python",
      "pygments_lexer": "ipython3",
      "version": "3.9.12"
    }
  },
  "nbformat": 4,
  "nbformat_minor": 0
}
