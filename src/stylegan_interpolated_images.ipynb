{
  "cells": [
    {
      "cell_type": "code",
      "execution_count": null,
      "metadata": {
        "id": "bFRrmXpfv4E2"
      },
      "outputs": [],
      "source": [
        "import os\n",
        "import pickle\n",
        "import numpy as np\n",
        "import PIL.Image\n",
        "import torch\n",
        "import matplotlib.pyplot as plt\n",
        "import random\n",
        "from scipy.interpolate import interp1d\n",
        "import tensorflow as tf\n",
        "from PIL.Image import Image as PilImage\n",
        "import textwrap\n",
        "import sys\n",
        "import dnnlib.tflib as tflib"
      ]
    },
    {
      "cell_type": "code",
      "execution_count": null,
      "metadata": {
        "id": "tlAcuqun7cW7"
      },
      "outputs": [],
      "source": [
        "device = torch.device(\"cuda:0\" if torch.cuda.is_available() else \"cpu\")"
      ]
    },
    {
      "cell_type": "code",
      "execution_count": null,
      "metadata": {
        "colab": {
          "base_uri": "https://localhost:8080/"
        },
        "id": "QROdMIm74DO9",
        "outputId": "cf5e7165-8cc8-4539-e0fe-5ca00c952bd4"
      },
      "outputs": [],
      "source": [
        "!git clone https://github.com/NVlabs/stylegan.git"
      ]
    },
    {
      "cell_type": "code",
      "execution_count": null,
      "metadata": {
        "id": "44HFA06j6aDN"
      },
      "outputs": [],
      "source": [
        "def get_save_interp_vectors(net_name, nz):\n",
        "    if not os.path.exists('../interpol'):\n",
        "        os.mkdir('../interpol')\n",
        "\n",
        "    start = np.random.randn(1, nz)\n",
        "    end = np.random.randn(1, nz)\n",
        "\n",
        "    linfit = interp1d([1, 10], np.vstack([start, end]), axis=0)\n",
        "    interp_vectors = [linfit(i) for i in range(1, 10 + 1)]\n",
        "\n",
        "    np.savetxt(f'../interpol/{net_name}.csv', interp_vectors)\n",
        "\n",
        "    return np.array(interp_vectors)"
      ]
    },
    {
      "cell_type": "code",
      "execution_count": null,
      "metadata": {
        "id": "bGOlLbMSEw-h"
      },
      "outputs": [],
      "source": [
        "def display_images(\n",
        "    images: [PilImage], \n",
        "    columns=5, width=20, height=8, max_images=15, \n",
        "    label_wrap_length=50, label_font_size=8):\n",
        "\n",
        "    if not images:\n",
        "        print('No images to display.')\n",
        "        return \n",
        "\n",
        "    if len(images) > max_images:\n",
        "        print(f'Showing {max_images} images of {len(images)}:')\n",
        "        images = images[0 : max_images]\n",
        "\n",
        "    height = max(height, int(len(images) / columns) * height)\n",
        "    plt.figure(figsize=(width, height))\n",
        "    \n",
        "    for i, image in enumerate(images):\n",
        "        plt.subplot(int(len(images) / columns + 1), columns, i + 1)\n",
        "        plt.imshow(image)\n",
        "\n",
        "        if hasattr(image, 'filename'):\n",
        "            title = image.filename\n",
        "            if title.endswith('/'):\n",
        "                title = title[0 : -1]\n",
        "            title = os.path.basename(title)\n",
        "            title = textwrap.wrap(title, label_wrap_length)\n",
        "            title = '\\n'.join(title)\n",
        "            plt.title(title, fontsize=label_font_size); \n",
        "\n",
        "    fig_tosave = plt.gcf()\n",
        "    if not os.path.exists('../interpol'):\n",
        "        os.mkdir('../interpol')\n",
        "    fig_tosave.savefig('../interpol/stylegan.png', dpi=600)\n",
        "\n",
        "    plt.show()"
      ]
    },
    {
      "cell_type": "code",
      "execution_count": null,
      "metadata": {
        "id": "GuDaV5JY4GMN"
      },
      "outputs": [],
      "source": [
        "sys.path.insert(0, '/content/stylegan')"
      ]
    },
    {
      "cell_type": "code",
      "execution_count": null,
      "metadata": {
        "colab": {
          "base_uri": "https://localhost:8080/",
          "height": 551
        },
        "id": "37kBfwGJCHXN",
        "outputId": "7b581969-670f-441b-c3bb-f98aa5e7b0d5"
      },
      "outputs": [],
      "source": [
        "def main():\n",
        "    # Initialize TensorFlow.\n",
        "    tflib.init_tf()\n",
        "\n",
        "    # Load pre-trained network.\n",
        "    with open('/content/karras2019stylegan-bedrooms-256x256 (2).pkl', 'rb') as f: \n",
        "        _G, _D, Gs = pickle.load(f)\n",
        "\n",
        "\n",
        "    interp_vectors = get_save_interp_vectors('stylegan', Gs.input_shape[1])\n",
        "    # Generate images.\n",
        "    imgs = []\n",
        "    for i, latent in enumerate(interp_vectors):\n",
        "      latent = latent.reshape(1, -1)\n",
        "      fmt = dict(func=tflib.convert_images_to_uint8, nchw_to_nhwc=True)\n",
        "      images = Gs.run(latent, None, truncation_psi=0.7, randomize_noise=True, output_transform=fmt)\n",
        "\n",
        "      # Append image.\n",
        "      imgs.append(PIL.Image.fromarray(images[0], 'RGB'))\n",
        "     \n",
        "    \n",
        "    display_images(imgs)\n",
        "\n",
        "if __name__ == '__main__':\n",
        "    main()"
      ]
    }
  ],
  "metadata": {
    "accelerator": "GPU",
    "colab": {
      "collapsed_sections": [],
      "name": "stylegan.ipynb",
      "provenance": []
    },
    "interpreter": {
      "hash": "5405968b28cf7165efd2cf9f73ae0f12240fe0a8206c87e0dd6ec3cb0842cf17"
    },
    "kernelspec": {
      "display_name": "Python 3.9.12 ('dl_proj_gan')",
      "language": "python",
      "name": "python3"
    },
    "language_info": {
      "codemirror_mode": {
        "name": "ipython",
        "version": 3
      },
      "file_extension": ".py",
      "mimetype": "text/x-python",
      "name": "python",
      "nbconvert_exporter": "python",
      "pygments_lexer": "ipython3",
      "version": "3.9.12"
    }
  },
  "nbformat": 4,
  "nbformat_minor": 0
}
